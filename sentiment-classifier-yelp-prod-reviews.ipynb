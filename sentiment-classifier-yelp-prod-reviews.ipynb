{
 "cells": [
  {
   "attachments": {},
   "cell_type": "markdown",
   "metadata": {},
   "source": [
    "# Sentiment Classification of Product Reviews\n",
    "\n",
    "The libraries used in the project are:\n",
    "* pandas(for dataframe manipulation) \n",
    "* nltk (for text pre-processing)\n",
    "* numpy (for calculating statistics)\n",
    "* sklearn (for implementing machine learning algorithms)\n",
    "* matplotlib (for creating data visualisations)"
   ]
  },
  {
   "attachments": {},
   "cell_type": "markdown",
   "metadata": {},
   "source": [
    "## 1. Introduction\n",
    "\n",
    "The objective of the task was to develop a sentiment classifer using a dataset that contains 650k yelp reviews. The dataset has sentiment labels varying from level 1 to level 5 with level 1 being strong negative to level 5 being strong positive and level 3 being neutral. Text preprocessing was done on the yelp reviews, followed by feature extraction to convert the text to a numerical representation that can be used in statistical models. Statistical models were then used to develop a classifer to predict the sentiment label of the yelp reviews in the testing dataset.\n",
    "\n",
    "Several preprocessing steps including case normalization, removing non alpha-numeric words, removing stop words, stemming and lemmatization were attempted. Removing stop words decreased the accuracy of the statistical models. Stemming and lemmatization did not improve the prediction accuracy and were taking too much time for computation. Hence, the final preprocessing steps done for the yelp reviews were case normalization and removing non-alphanumeric words. \n",
    "\n",
    "Unigram and Bigram features were extracted from the reviews. Term Frequency (TF) and Term Frequency Inverse Document Frequency (TF-IDF) representations were attempted; TF-IDF representation yielded a slightly higher accuracy in the statistical models.The number of features used in the final classifer were 10,000; this was finalised after experimenting with different number of features.  \n",
    "\n",
    "Several statistical models including multinomial Naive Bayes, Multinomial Logistic Regression and Linear Support Vector Classifier were used to develop the sentiment classifer. Multinomial Logistic Regression was found to have the highest predictive power for this dataset and used in the final classifer."
   ]
  },
  {
   "cell_type": "markdown",
   "metadata": {},
   "source": [
    "## 2. Loading libraries and Data"
   ]
  },
  {
   "cell_type": "code",
   "execution_count": 1,
   "metadata": {},
   "outputs": [],
   "source": [
    "# Import Libraries\n",
    "import numpy as np\n",
    "import pandas as pd\n",
    "import nltk \n",
    "from sklearn.feature_extraction.text import CountVectorizer\n",
    "from sklearn.feature_extraction.text import TfidfVectorizer\n",
    "from nltk.stem import WordNetLemmatizer\n",
    "from nltk.stem import PorterStemmer\n",
    "from sklearn.linear_model import LogisticRegression\n",
    "from sklearn.metrics import accuracy_score, classification_report\n",
    "import matplotlib.pyplot as plt\n",
    "% matplotlib inline"
   ]
  },
  {
   "cell_type": "code",
   "execution_count": 2,
   "metadata": {},
   "outputs": [],
   "source": [
    "# Reading training data\n",
    "train = pd.read_csv('train_data.csv', index_col = 0)\n",
    "train_label = pd.read_csv('train_label.csv', index_col = 0)"
   ]
  },
  {
   "cell_type": "code",
   "execution_count": 3,
   "metadata": {},
   "outputs": [
    {
     "name": "stdout",
     "output_type": "stream",
     "text": [
      "                                                     text\n",
      "trn_id                                                   \n",
      "trn_1   Well this place got me to write my first revie...\n",
      "trn_2   A very good Greek restaurant with tasty food. ...\n",
      "trn_3   Website says open, Google says open, Yelp says...\n",
      "trn_4   If I could give zero stars I would. When we wa...\n",
      "trn_5   They have great food & definitely excellent se...\n",
      "        label\n",
      "trn_id       \n",
      "trn_1       2\n",
      "trn_2       5\n",
      "trn_3       1\n",
      "trn_4       1\n",
      "trn_5       5\n"
     ]
    }
   ],
   "source": [
    "# check that training data loaded correctly\n",
    "print(train.head())\n",
    "print(train_label.head())"
   ]
  },
  {
   "cell_type": "code",
   "execution_count": 4,
   "metadata": {},
   "outputs": [
    {
     "data": {
      "text/html": [
       "<div>\n",
       "<style scoped>\n",
       "    .dataframe tbody tr th:only-of-type {\n",
       "        vertical-align: middle;\n",
       "    }\n",
       "\n",
       "    .dataframe tbody tr th {\n",
       "        vertical-align: top;\n",
       "    }\n",
       "\n",
       "    .dataframe thead th {\n",
       "        text-align: right;\n",
       "    }\n",
       "</style>\n",
       "<table border=\"1\" class=\"dataframe\">\n",
       "  <thead>\n",
       "    <tr style=\"text-align: right;\">\n",
       "      <th></th>\n",
       "      <th>text</th>\n",
       "    </tr>\n",
       "    <tr>\n",
       "      <th>test_id</th>\n",
       "      <th></th>\n",
       "    </tr>\n",
       "  </thead>\n",
       "  <tbody>\n",
       "    <tr>\n",
       "      <th>test_1</th>\n",
       "      <td>trying to have a nice quiet dinner.  the annou...</td>\n",
       "    </tr>\n",
       "    <tr>\n",
       "      <th>test_2</th>\n",
       "      <td>Been getting food to go from here for over 3yr...</td>\n",
       "    </tr>\n",
       "    <tr>\n",
       "      <th>test_3</th>\n",
       "      <td>Ugh. I've had to eat here a couple of times be...</td>\n",
       "    </tr>\n",
       "    <tr>\n",
       "      <th>test_4</th>\n",
       "      <td>The people here are so nice! I ordered on eat ...</td>\n",
       "    </tr>\n",
       "    <tr>\n",
       "      <th>test_5</th>\n",
       "      <td>Heard alot of good things about this place and...</td>\n",
       "    </tr>\n",
       "  </tbody>\n",
       "</table>\n",
       "</div>"
      ],
      "text/plain": [
       "                                                      text\n",
       "test_id                                                   \n",
       "test_1   trying to have a nice quiet dinner.  the annou...\n",
       "test_2   Been getting food to go from here for over 3yr...\n",
       "test_3   Ugh. I've had to eat here a couple of times be...\n",
       "test_4   The people here are so nice! I ordered on eat ...\n",
       "test_5   Heard alot of good things about this place and..."
      ]
     },
     "execution_count": 4,
     "metadata": {},
     "output_type": "execute_result"
    }
   ],
   "source": [
    "# reading testing data\n",
    "test = pd.read_csv('test_data.csv',index_col = 0)\n",
    "test.head() # check"
   ]
  },
  {
   "cell_type": "code",
   "execution_count": 5,
   "metadata": {},
   "outputs": [
    {
     "data": {
      "text/plain": [
       "5    130000\n",
       "4    130000\n",
       "3    130000\n",
       "2    130000\n",
       "1    130000\n",
       "Name: label, dtype: int64"
      ]
     },
     "execution_count": 5,
     "metadata": {},
     "output_type": "execute_result"
    }
   ],
   "source": [
    "# check distribution of labels\n",
    "train_label.label.value_counts()"
   ]
  },
  {
   "cell_type": "code",
   "execution_count": 6,
   "metadata": {},
   "outputs": [
    {
     "data": {
      "text/plain": [
       "<matplotlib.axes._subplots.AxesSubplot at 0x1c93ebe0>"
      ]
     },
     "execution_count": 6,
     "metadata": {},
     "output_type": "execute_result"
    },
    {
     "data": {
      "image/png": "[encoded data removed]",
      "text/plain": [
       "<Figure size 432x288 with 1 Axes>"
      ]
     },
     "metadata": {},
     "output_type": "display_data"
    }
   ],
   "source": [
    "train_label.label.value_counts().plot(kind = 'bar', color = 'b')"
   ]
  },
  {
   "cell_type": "markdown",
   "metadata": {},
   "source": [
    "The classes of sentiment labels are equally balanced. No class imbalance"
   ]
  },
  {
   "cell_type": "markdown",
   "metadata": {},
   "source": [
    "## 3. Preprocessing"
   ]
  },
  {
   "cell_type": "code",
   "execution_count": 7,
   "metadata": {},
   "outputs": [],
   "source": [
    "# functions for tokenization with case normalisation to lower case   \n",
    "def tokenize(text):\n",
    "    tokens = nltk.tokenize.word_tokenize(text.lower())\n",
    "    return tokens"
   ]
  },
  {
   "cell_type": "code",
   "execution_count": 8,
   "metadata": {},
   "outputs": [],
   "source": [
    "# function for removing non alpha-numeric tokens and stopword tokens\n",
    "def removeNonAlphaNum(l):\n",
    "    return [token for token in l if token.isalpha()]\n",
    "\n",
    "\n",
    "def removeStopwords(l, custom_stop_words):\n",
    "    return [word for word in l if word not in custom_stop_words]"
   ]
  },
  {
   "cell_type": "code",
   "execution_count": 9,
   "metadata": {},
   "outputs": [],
   "source": [
    "# functions for stemming and lemmatizing tokens\n",
    "lemmatizer = WordNetLemmatizer()\n",
    "def lemmatize(l):\n",
    "    return [lemmatizer.lemmatize(token) for token in l]\n",
    "\n",
    "stemmer = PorterStemmer()\n",
    "def stem(l):\n",
    "    return [stemmer.stem(token) for token in l]"
   ]
  },
  {
   "cell_type": "code",
   "execution_count": 10,
   "metadata": {},
   "outputs": [],
   "source": [
    "# final function for preprocessing tokens: only case normalization and removing non-alphanumeric tokens done \n",
    "def preprocess(l):\n",
    "    return removeNonAlphaNum(l)"
   ]
  },
  {
   "cell_type": "code",
   "execution_count": 11,
   "metadata": {},
   "outputs": [],
   "source": [
    "# function for joining the tokens to get a cleaned yelp review\n",
    "def cleanString(l):\n",
    "    return ' '.join(l)"
   ]
  },
  {
   "cell_type": "code",
   "execution_count": 12,
   "metadata": {},
   "outputs": [],
   "source": [
    "# preprocessing training data using functions defined above\n",
    "train['text'] = train['text'].apply(tokenize)\n",
    "train['text'] = train['text'].apply(preprocess)\n",
    "train['text'] = train['text'].apply(cleanString)"
   ]
  },
  {
   "cell_type": "code",
   "execution_count": 13,
   "metadata": {},
   "outputs": [
    {
     "data": {
      "text/plain": [
       "trn_id\n",
       "trn_1    well this place got me to write my first revie...\n",
       "Name: text, dtype: object"
      ]
     },
     "execution_count": 13,
     "metadata": {},
     "output_type": "execute_result"
    }
   ],
   "source": [
    "train['text'].head(1) # check"
   ]
  },
  {
   "cell_type": "markdown",
   "metadata": {},
   "source": [
    "#### Exploratory Analysis of Reviews"
   ]
  },
  {
   "cell_type": "markdown",
   "metadata": {},
   "source": [
    "Let's find the average length and standard deviation of the preprocessed tokens:"
   ]
  },
  {
   "cell_type": "code",
   "execution_count": 14,
   "metadata": {},
   "outputs": [
    {
     "data": {
      "text/plain": [
       "count    650000.000000\n",
       "mean        623.372735\n",
       "std         568.326569\n",
       "min           0.000000\n",
       "25%         249.000000\n",
       "50%         452.000000\n",
       "75%         800.000000\n",
       "max        4919.000000\n",
       "Name: lengths, dtype: float64"
      ]
     },
     "execution_count": 14,
     "metadata": {},
     "output_type": "execute_result"
    }
   ],
   "source": [
    "def size(text):\n",
    "    return len(text)\n",
    "train['lengths'] = train['text'].apply(size)\n",
    "train['lengths'].describe() # summary stats of length of reviews"
   ]
  },
  {
   "cell_type": "code",
   "execution_count": 15,
   "metadata": {},
   "outputs": [
    {
     "name": "stdout",
     "output_type": "stream",
     "text": [
      "(649916, 2) (649916, 1)\n"
     ]
    }
   ],
   "source": [
    "# dropping reviews with 0 tokens\n",
    "drop_idx = train.loc[train['lengths'] == 0,].index\n",
    "train.drop(drop_idx, axis=0,inplace=True)\n",
    "train_label.drop(drop_idx, axis=0,inplace=True)\n",
    "print(train.shape, train_label.shape)"
   ]
  },
  {
   "cell_type": "code",
   "execution_count": 16,
   "metadata": {},
   "outputs": [
    {
     "data": {
      "text/plain": [
       "count    649916.000000\n",
       "mean        623.453305\n",
       "std         568.319104\n",
       "min           1.000000\n",
       "25%         249.000000\n",
       "50%         452.000000\n",
       "75%         800.000000\n",
       "max        4919.000000\n",
       "Name: lengths, dtype: float64"
      ]
     },
     "execution_count": 16,
     "metadata": {},
     "output_type": "execute_result"
    }
   ],
   "source": [
    "train['lengths'].describe() # summary stats of length of reviews"
   ]
  },
  {
   "cell_type": "code",
   "execution_count": 17,
   "metadata": {},
   "outputs": [
    {
     "data": {
      "image/png": "[encoded data removed]",
      "text/plain": [
       "<Figure size 432x288 with 1 Axes>"
      ]
     },
     "metadata": {},
     "output_type": "display_data"
    }
   ],
   "source": [
    "# histogram of length of reviews\n",
    "plt.hist(train['lengths'], bins = 50)\n",
    "plt.show()"
   ]
  },
  {
   "cell_type": "code",
   "execution_count": 18,
   "metadata": {},
   "outputs": [
    {
     "data": {
      "text/plain": [
       "<matplotlib.axes._subplots.AxesSubplot at 0x15e0561d0>"
      ]
     },
     "execution_count": 18,
     "metadata": {},
     "output_type": "execute_result"
    },
    {
     "data": {
      "image/png": "[encoded data removed]",
      "text/plain": [
       "<Figure size 432x288 with 1 Axes>"
      ]
     },
     "metadata": {},
     "output_type": "display_data"
    }
   ],
   "source": [
    "# boxplot of length of reviews\n",
    "train.boxplot(column='lengths')"
   ]
  },
  {
   "cell_type": "markdown",
   "metadata": {},
   "source": [
    "Finding the number of tokens and the size of vocabulary:"
   ]
  },
  {
   "cell_type": "code",
   "execution_count": 19,
   "metadata": {},
   "outputs": [
    {
     "data": {
      "text/plain": [
       "78360509"
      ]
     },
     "execution_count": 19,
     "metadata": {},
     "output_type": "execute_result"
    }
   ],
   "source": [
    "# number of tokens in data\n",
    "number_of_tokens = train['text'].apply(lambda x: len(x.split(' '))).sum()\n",
    "number_of_tokens"
   ]
  },
  {
   "cell_type": "code",
   "execution_count": 20,
   "metadata": {},
   "outputs": [
    {
     "data": {
      "text/plain": [
       "173810"
      ]
     },
     "execution_count": 20,
     "metadata": {},
     "output_type": "execute_result"
    }
   ],
   "source": [
    "# compute the size of vocab\n",
    "train_countvec = CountVectorizer(analyzer = \"word\", ngram_range = (1,1))\n",
    "train_tf = train_countvec.fit_transform(train['text'])\n",
    "train_tf.shape[1]"
   ]
  },
  {
   "cell_type": "code",
   "execution_count": 21,
   "metadata": {},
   "outputs": [
    {
     "name": "stdout",
     "output_type": "stream",
     "text": [
      "Vocabulary size:  173810 \n",
      "Total number of tokens:  78360509\n"
     ]
    }
   ],
   "source": [
    "print (\"Vocabulary size: \",train_tf.shape[1],\"\\nTotal number of tokens: \", number_of_tokens)"
   ]
  },
  {
   "cell_type": "markdown",
   "metadata": {},
   "source": [
    "We have around 80 million tokens in the data and the size of vocab is around 174k"
   ]
  },
  {
   "cell_type": "markdown",
   "metadata": {},
   "source": [
    "## 4. Feature Extraction\n",
    "\n",
    "#### Splitting training data\n",
    "\n",
    "Before feature extraction, let us split the training data into training set and validation set so that we can validate the trained classifer. Splitting is done before feature extraction because we do not want to use the validation set to extract any features replicating the scenario for unseen testing data.\n",
    "\n",
    "As we have 650k records, we can go with a 95:5 split and have a sizable number of records (more than 30k records) in the validation set. \n",
    "\n",
    "*Note that 84 records with only special symbols were removed for training the classifer.*"
   ]
  },
  {
   "cell_type": "code",
   "execution_count": 22,
   "metadata": {},
   "outputs": [
    {
     "name": "stdout",
     "output_type": "stream",
     "text": [
      "No. of rows in train_set: 617420\n",
      "No. of rows in validation_set: 32496\n"
     ]
    }
   ],
   "source": [
    "# split train data into training set and validation set\n",
    "train_set = train.sample(frac = 0.95,random_state = 10) #95:5 split\n",
    "validation_set = train.drop(train_set.index)\n",
    "print('No. of rows in train_set:', len(train_set))\n",
    "print('No. of rows in validation_set:', len(validation_set))"
   ]
  },
  {
   "cell_type": "markdown",
   "metadata": {},
   "source": [
    "#### TF-IDF Vectorization\n",
    "\n",
    "Converting raw text to TF-IDF numerical representation by extracting unigram and bigram features from the text. \n",
    "The number of features extracted in the final classifer is 10,000"
   ]
  },
  {
   "cell_type": "code",
   "execution_count": 23,
   "metadata": {},
   "outputs": [
    {
     "data": {
      "text/plain": [
       "(617420, 10000)"
      ]
     },
     "execution_count": 23,
     "metadata": {},
     "output_type": "execute_result"
    }
   ],
   "source": [
    "# tf-idf vectors of training set\n",
    "train_tfidf = TfidfVectorizer(analyzer = \"word\", ngram_range = (1,2),max_features = 10000)\n",
    "X_train = train_tfidf.fit_transform(train_set['text'])\n",
    "X_train.shape"
   ]
  },
  {
   "cell_type": "code",
   "execution_count": 24,
   "metadata": {},
   "outputs": [],
   "source": [
    "# Converting labels of reviews in training set to a numpy array for sklearn model\n",
    "Y_train = np.ravel(train_label.loc[train_set.index])"
   ]
  },
  {
   "cell_type": "markdown",
   "metadata": {},
   "source": [
    "## 5. Modelling\n",
    "\n",
    "Training a logistic regression classifer and testing it on the validation set:"
   ]
  },
  {
   "cell_type": "code",
   "execution_count": 25,
   "metadata": {},
   "outputs": [],
   "source": [
    "# Logit model using saga solver as it scales better for large datasets according to sklearn document # reference 1\n",
    "logit = LogisticRegression(random_state = 10, solver = 'saga',multi_class = 'multinomial').fit(X_train, Y_train)"
   ]
  },
  {
   "cell_type": "code",
   "execution_count": 26,
   "metadata": {},
   "outputs": [],
   "source": [
    "# TF-IDF vectorization of validation set\n",
    "X_validation = train_tfidf.transform(validation_set['text'])\n",
    "# prediction on validation set\n",
    "Y_predict = logit.predict(X_validation)"
   ]
  },
  {
   "cell_type": "code",
   "execution_count": 27,
   "metadata": {},
   "outputs": [
    {
     "name": "stdout",
     "output_type": "stream",
     "text": [
      "Accuracy of validation set is 0.6418020679468243\n",
      "             precision    recall  f1-score   support\n",
      "\n",
      "          1       0.73      0.78      0.76      6425\n",
      "          2       0.57      0.56      0.57      6553\n",
      "          3       0.56      0.53      0.54      6529\n",
      "          4       0.57      0.58      0.58      6353\n",
      "          5       0.76      0.75      0.75      6636\n",
      "\n",
      "avg / total       0.64      0.64      0.64     32496\n",
      "\n"
     ]
    }
   ],
   "source": [
    "# printing accuracy score and classification report of predictions on validation set\n",
    "Y_true = np.array(train_label.loc[validation_set.index])\n",
    "accuracy = accuracy_score(Y_true, Y_predict)\n",
    "print('Accuracy of validation set is', accuracy)\n",
    "print(classification_report(Y_true, Y_predict))"
   ]
  },
  {
   "cell_type": "markdown",
   "metadata": {},
   "source": [
    "From the detailed classification report, we can see that the classifer is better at predicting strong negative and strong positive sentiments compared to the neutral and weaker sentiments"
   ]
  },
  {
   "cell_type": "markdown",
   "metadata": {},
   "source": [
    "## 6. Prediction on test data"
   ]
  },
  {
   "cell_type": "markdown",
   "metadata": {},
   "source": [
    "Final model by training the model on the complete data set:"
   ]
  },
  {
   "cell_type": "code",
   "execution_count": 28,
   "metadata": {},
   "outputs": [],
   "source": [
    "# tf-idf vectors for entire training data\n",
    "train_tfidf_complete = TfidfVectorizer(analyzer = \"word\", ngram_range = (1,2),max_features = 10000)\n",
    "X_train_complete = train_tfidf_complete.fit_transform(train['text'])"
   ]
  },
  {
   "cell_type": "code",
   "execution_count": 29,
   "metadata": {},
   "outputs": [],
   "source": [
    "# training logit model on entire data\n",
    "Y_train_complete = np.ravel(train_label)\n",
    "logit_complete = LogisticRegression(random_state = 10, solver = 'saga',multi_class = 'multinomial').fit(\n",
    "                                                                                        X_train_complete, Y_train_complete)"
   ]
  },
  {
   "cell_type": "markdown",
   "metadata": {},
   "source": [
    "Predicting sentiment labels of the reviews in test data using the final model:"
   ]
  },
  {
   "cell_type": "code",
   "execution_count": 30,
   "metadata": {},
   "outputs": [
    {
     "data": {
      "text/plain": [
       "test_id\n",
       "test_1    trying to have a nice quiet dinner the announc...\n",
       "Name: text, dtype: object"
      ]
     },
     "execution_count": 30,
     "metadata": {},
     "output_type": "execute_result"
    }
   ],
   "source": [
    "# preprocessing test set\n",
    "test['text'] = test['text'].apply(tokenize)\n",
    "test['text'] = test['text'].apply(preprocess)\n",
    "test['text'] = test['text'].apply(cleanString)\n",
    "test['text'].head(1)"
   ]
  },
  {
   "cell_type": "code",
   "execution_count": 31,
   "metadata": {},
   "outputs": [],
   "source": [
    "# prediction on test set\n",
    "X_test = train_tfidf_complete.transform(test['text'])\n",
    "test['label'] = logit_complete.predict(X_test)"
   ]
  },
  {
   "cell_type": "code",
   "execution_count": 32,
   "metadata": {},
   "outputs": [],
   "source": [
    "# writing predictions to a file\n",
    "test_out = test.drop(columns = 'text')\n",
    "test_out.to_csv('predict_label.csv')"
   ]
  },
  {
   "cell_type": "markdown",
   "metadata": {},
   "source": [
    "## References  \n",
    "1. Scikit learn. *Generalized linear models: 1.1.11 Logistic Regression*. Retrieved from https://scikit-learn.org/stable/modules/linear_model.html"
   ]
  }
 ],
 "metadata": {
  "kernelspec": {
   "display_name": "Python 3",
   "language": "python",
   "name": "python3"
  },
  "language_info": {
   "codemirror_mode": {
    "name": "ipython",
    "version": 3
   },
   "file_extension": ".py",
   "mimetype": "text/x-python",
   "name": "python",
   "nbconvert_exporter": "python",
   "pygments_lexer": "ipython3",
   "version": "3.6.5"
  }
 },
 "nbformat": 4,
 "nbformat_minor": 2
}
